{
 "cells": [
  {
   "cell_type": "code",
   "execution_count": null,
   "metadata": {},
   "outputs": [
    {
     "name": "stdout",
     "output_type": "stream",
     "text": [
      "Hello\n"
     ]
    }
   ],
   "source": [
    "print(\"Hello\")"
   ]
  },
  {
   "attachments": {},
   "cell_type": "markdown",
   "metadata": {},
   "source": [
    "Get DOB from user and print age"
   ]
  },
  {
   "cell_type": "code",
   "execution_count": 4,
   "metadata": {},
   "outputs": [
    {
     "name": "stdout",
     "output_type": "stream",
     "text": [
      "2004\n"
     ]
    }
   ],
   "source": [
    "dob=input(\"Enter the DOB:\")\n",
    "yob=dob[4:8]\n",
    "print(yob)\n",
    "yob_int=int(yob)\n",
    "def age(yob_int):\n",
    "    age=2023-yob_int\n",
    "    print(age)"
   ]
  },
  {
   "cell_type": "code",
   "execution_count": 5,
   "metadata": {},
   "outputs": [
    {
     "name": "stdout",
     "output_type": "stream",
     "text": [
      "19\n"
     ]
    }
   ],
   "source": [
    "age(yob_int)\n"
   ]
  },
  {
   "attachments": {},
   "cell_type": "markdown",
   "metadata": {},
   "source": [
    "### Get DOB from User and Calculate number of days on Earth\n"
   ]
  },
  {
   "cell_type": "code",
   "execution_count": 14,
   "metadata": {},
   "outputs": [
    {
     "name": "stdout",
     "output_type": "stream",
     "text": [
      "2003\n",
      "06\n",
      "16\n"
     ]
    }
   ],
   "source": [
    "dob=input(\"Enter the DOB:\")\n",
    "yob=dob[4:8]\n",
    "print(yob)\n",
    "mob=dob[2:4]\n",
    "print(mob)\n",
    "date=dob[0:2]\n",
    "print(date)\n",
    "yob_int=int(yob)\n",
    "mob_int=int(mob)\n",
    "date_int=int(date)\n",
    "def year(yob_int):\n",
    "    age=2023-yob_int #2023 is the current year can change it o the current year\n",
    "    print(age,\"years\")\n",
    "def monb(mob_int):\n",
    "    mob=12-mob_int #12 is the current month can change it to the current month \n",
    "    print(mob,\"months\")\n",
    "def day(date_int):\n",
    "    day=24-date_int #24 is the current date can change it to the current date\n",
    "    print(day,\"days\")"
   ]
  },
  {
   "cell_type": "code",
   "execution_count": 15,
   "metadata": {},
   "outputs": [
    {
     "name": "stdout",
     "output_type": "stream",
     "text": [
      "20 years\n",
      "6 months\n",
      "8 days\n"
     ]
    }
   ],
   "source": [
    "year(yob_int)\n",
    "monb(mob_int)\n",
    "day(date_int)\n"
   ]
  },
  {
   "attachments": {},
   "cell_type": "markdown",
   "metadata": {},
   "source": [
    "Alternate method\n"
   ]
  },
  {
   "cell_type": "code",
   "execution_count": null,
   "metadata": {},
   "outputs": [
    {
     "name": "stdout",
     "output_type": "stream",
     "text": [
      "2003\n",
      "06\n",
      "16\n",
      "7432\n",
      "20 years\n",
      "4 months\n",
      "132 days\n"
     ]
    }
   ],
   "source": [
    "dob=input(\"Enter the DOB:\")\n",
    "yob=dob[4:8]\n",
    "print(yob)\n",
    "mob=dob[2:4]\n",
    "print(mob)\n",
    "date=dob[0:2]\n",
    "print(date)\n",
    "yob_int=int(yob)\n",
    "mob_int=int(mob)\n",
    "date_int=int(date)\n",
    "my_days=365*yob_int+30*mob_int+date_int\n",
    "current_days=365*2023+30*10+28 #can change it to the current date\n",
    "tot_days=current_days-my_days\n",
    "print(tot_days)\n",
    "year=tot_days//365\n",
    "rem_days=tot_days%365\n",
    "mon=rem_days//30\n",
    "rem_day=rem_days%30\n",
    "print(year, \"years\" )\n",
    "print(mon,\"months\")\n",
    "print(rem_days,\"days\")"
   ]
  },
  {
   "attachments": {},
   "cell_type": "markdown",
   "metadata": {},
   "source": [
    "String formatting\n"
   ]
  },
  {
   "cell_type": "code",
   "execution_count": null,
   "metadata": {},
   "outputs": [
    {
     "name": "stdout",
     "output_type": "stream",
     "text": [
      " Hii I am Snowfia and I am from CSE Department . ai am very much eager to attend this NEXT-GeN employability program\n"
     ]
    }
   ],
   "source": [
    "print(f\" Hii I am Snowfia and I am from CSE Department . I am very much eager to attend this NEXT-GeN employability program\")\n"
   ]
  },
  {
   "cell_type": "code",
   "execution_count": null,
   "metadata": {},
   "outputs": [
    {
     "name": "stdout",
     "output_type": "stream",
     "text": [
      "2,4\n",
      "hii I am Snow I am from cse Department\n"
     ]
    }
   ],
   "source": [
    "print(\"{},{}\".format(2,4))\n",
    "print(\"hii I am {y} I am from {x} Department\".format(x= \"cse\",y= \"Snow\"))"
   ]
  }
 ],
 "metadata": {
  "kernelspec": {
   "display_name": "Python 3",
   "language": "python",
   "name": "python3"
  },
  "language_info": {
   "codemirror_mode": {
    "name": "ipython",
    "version": 3
   },
   "file_extension": ".py",
   "mimetype": "text/x-python",
   "name": "python",
   "nbconvert_exporter": "python",
   "pygments_lexer": "ipython3",
   "version": "3.11.6"
  },
  "orig_nbformat": 4
 },
 "nbformat": 4,
 "nbformat_minor": 2
}
