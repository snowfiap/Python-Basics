{
 "cells": [
  {
   "cell_type": "code",
   "execution_count": 24,
   "metadata": {},
   "outputs": [],
   "source": [
    "student_names=[]\n",
    "roll_nums=[]\n",
    "branches=[]\n",
    "paid_amounts=[]"
   ]
  },
  {
   "cell_type": "code",
   "execution_count": 25,
   "metadata": {},
   "outputs": [],
   "source": [
    "def create_student(name, roll_no ,branch,paid_amount):\n",
    " student_names.append(name)\n",
    " roll_nums.append(roll_no)\n",
    " branches.append(branch)\n",
    " paid_amounts.append(paid_amount)"
   ]
  },
  {
   "cell_type": "code",
   "execution_count": 26,
   "metadata": {},
   "outputs": [
    {
     "name": "stdout",
     "output_type": "stream",
     "text": [
      "['Snowfia'] \n",
      " [52] \n",
      " ['CSE'] \n",
      " [100000]\n"
     ]
    }
   ],
   "source": [
    "create_student(\"Snowfia\",52,\"CSE\",100000)\n",
    "print(student_names,\"\\n\" ,roll_nums,\"\\n\" ,branches,\"\\n\",paid_amounts )"
   ]
  },
  {
   "cell_type": "code",
   "execution_count": 33,
   "metadata": {},
   "outputs": [],
   "source": [
    "class student:\n",
    "    def __init__(self,name,roll_no ,branch,paid_amount):\n",
    "        self.name=name\n",
    "        self.roll_no=roll_no\n",
    "        self.branch=branch\n",
    "        self.paid_amount=paid_amount\n",
    "    def get_summary(self):\n",
    "        print(f\"the name of the student is{self.name}\\n Her roll number is{self.roll_no}\\n she belongs to {self.branch} and \\n has paid {self.paid_amount} Rupees \")"
   ]
  },
  {
   "cell_type": "code",
   "execution_count": 28,
   "metadata": {},
   "outputs": [],
   "source": [
    "snowfia=student(\"Snowfia\",52,\"CSE\",100000)\n",
    "asmi=student(\"asmi\",23,\"ECE\",120000)"
   ]
  },
  {
   "cell_type": "code",
   "execution_count": 29,
   "metadata": {},
   "outputs": [
    {
     "name": "stdout",
     "output_type": "stream",
     "text": [
      "CSE\n",
      "ECE\n"
     ]
    }
   ],
   "source": [
    "print(snowfia.branch)\n",
    "print(asmi.branch)"
   ]
  },
  {
   "cell_type": "code",
   "execution_count": 30,
   "metadata": {},
   "outputs": [
    {
     "name": "stdout",
     "output_type": "stream",
     "text": [
      "120000\n"
     ]
    }
   ],
   "source": [
    "snowfia.paid_amount=snowfia.paid_amount+20000\n",
    "print(snowfia.paid_amount)"
   ]
  },
  {
   "cell_type": "code",
   "execution_count": 35,
   "metadata": {},
   "outputs": [
    {
     "data": {
      "text/plain": [
       "<bound method student.get_summary of <__main__.student object at 0x00000160BA1FA290>>"
      ]
     },
     "execution_count": 35,
     "metadata": {},
     "output_type": "execute_result"
    }
   ],
   "source": [
    "snowfia.get_summary"
   ]
  },
  {
   "attachments": {},
   "cell_type": "markdown",
   "metadata": {},
   "source": [
    "### variables vs properties vs functions vs methods"
   ]
  },
  {
   "cell_type": "code",
   "execution_count": 3,
   "metadata": {},
   "outputs": [],
   "source": [
    "# create variable\n",
    "name=\"Snowfia\"\n",
    "roll_no=52\n",
    "branch=\"CSE\"\n",
    "paid_amount=10000\n",
    "\n",
    "#create some function for student\n",
    "def get_name_roll():\n",
    "    print(f\"The name of the student is {name} and his/her roll no is {roll_no}\")\n",
    "def get_summary():\n",
    "    print(f\"The student name is {name} and roll no is {roll_no} she is from {branch} department and his/her paid amount is {paid_amount}\")"
   ]
  },
  {
   "cell_type": "code",
   "execution_count": 4,
   "metadata": {},
   "outputs": [
    {
     "name": "stdout",
     "output_type": "stream",
     "text": [
      "The student name is Snowfia and roll no is 52 she is from CSE department and his/her paid amount is 10000\n"
     ]
    }
   ],
   "source": [
    "get_summary()\n"
   ]
  },
  {
   "cell_type": "code",
   "execution_count": null,
   "metadata": {},
   "outputs": [],
   "source": [
    "class student:\n",
    "    def __init__(self,name,roll_no,branch)\n",
    "        self.name=name #properties"
   ]
  },
  {
   "attachments": {},
   "cell_type": "markdown",
   "metadata": {},
   "source": [
    "### create a software for the college to collect the data of every person and store the data"
   ]
  },
  {
   "cell_type": "code",
   "execution_count": 8,
   "metadata": {},
   "outputs": [],
   "source": [
    "class teachers:\n",
    "    def __init__(self,name,id_no,DOB,mob_no,dept):\n",
    "        self.name=name\n",
    "        self.id_no=id_no\n",
    "        self.DOB=DOB\n",
    "        self.mob_no=mob_no\n",
    "        self.dept=dept\n",
    "    def get_summary(self):\n",
    "        print(f\"The name of the peson is{self.name} with the id no {id_no} and the DOB is {self.DOB} with the mobile number {self.mob_no}in the department {dept}\")\n",
    "\n",
    "class non_teacher:\n",
    "    def __init__(self,name,id_no,DOB,mob_no):\n",
    "        self.name=name\n",
    "        self.id_no=id_no\n",
    "        self.DOB=DOB\n",
    "        self.mob_no=mob_no\n",
    "    def get_summary(self):\n",
    "        print(f\"The name of the peson is{self.name} with the id no {id_no} and the DOB is {self.DOB} with the mobile number {self.mob_no}\")\n",
    "\n",
    "class student:\n",
    "    def __init__(self,name,id_no,DOB,mob_no,dept,paid_amount,passing_year):\n",
    "        self.name=name\n",
    "        self.id_no=id_no\n",
    "        self.DOB=DOB\n",
    "        self.mob_no=mob_no\n",
    "        self.dept=dept\n",
    "        self.paid_amount=paid_amount\n",
    "        self.passing_year=passing_year\n",
    "\n",
    "    def get_summary(self):\n",
    "         print(f\"The name of the peson is{self.name} with the id no {id_no} and the DOB is {self.DOB} with the mobile number {self.mob_no}in the department {dept} she has paid {paid_amount} rupees and the passing year of the student id {passing_year}\")\n",
    "\n",
    "\n",
    "    \n"
   ]
  },
  {
   "attachments": {},
   "cell_type": "markdown",
   "metadata": {},
   "source": [
    "### Inheritance"
   ]
  },
  {
   "cell_type": "code",
   "execution_count": 5,
   "metadata": {},
   "outputs": [],
   "source": [
    "class person:\n",
    "    def __init__(self,name,id_no,DOB,mob_no):\n",
    "        self.name=name\n",
    "        self.id_no=id_no\n",
    "        self.DOB=DOB\n",
    "        self.mob_no=mob_no\n",
    "    def get_summary(self):\n",
    "        print(f\"the name of the person is {self.name} with the id number as {id_no} and the DOB of the person is {DOB} .the mobile no is {mob_no} \")\n",
    "\n",
    "class teacher(person):\n",
    "    def __init__(self,name,id_no,DOB,mob_no,dept):\n",
    "        super().__init__(name,id_no,DOB,mob_no)\n",
    "        self.dept=dept\n",
    "\n",
    "class non_teacher(person):\n",
    "    def __init__(self,name,id_no,DOB,mob_no):\n",
    "        super().__init__(name,id_no,DOB,mob_no)\n",
    "\n",
    "class student(person):\n",
    "    def __init__(self,name,id_no,DOB,mob_no,dept,paid_amount,passing_year):\n",
    "        super().__init__(name,id_no,DOB,mob_no)\n",
    "        self.dept=dept\n",
    "        self.paid_amount=paid_amount\n",
    "        self.passing_year=passing_year\n",
    "\n",
    "        "
   ]
  },
  {
   "cell_type": "code",
   "execution_count": 4,
   "metadata": {},
   "outputs": [
    {
     "ename": "NameError",
     "evalue": "name 'teacher' is not defined",
     "output_type": "error",
     "traceback": [
      "\u001b[1;31m---------------------------------------------------------------------------\u001b[0m",
      "\u001b[1;31mNameError\u001b[0m                                 Traceback (most recent call last)",
      "Cell \u001b[1;32mIn[4], line 1\u001b[0m\n\u001b[1;32m----> 1\u001b[0m teacher1\u001b[39m=\u001b[39mteacher(\u001b[39m\"\u001b[39m\u001b[39mSheela\u001b[39m\u001b[39m\"\u001b[39m,\u001b[39m23\u001b[39m,\u001b[39m13071998\u001b[39m,\u001b[39m1234567890\u001b[39m,\u001b[39m\"\u001b[39m\u001b[39mCSE\u001b[39m\u001b[39m\"\u001b[39m)\n\u001b[0;32m      2\u001b[0m student1\u001b[39m=\u001b[39mstudent(\u001b[39m\"\u001b[39m\u001b[39msnow\u001b[39m\u001b[39m\"\u001b[39m,\u001b[39m52\u001b[39m,\u001b[39m16062003\u001b[39m,\u001b[39m971292585\u001b[39m,\u001b[39m\"\u001b[39m\u001b[39mCSE\u001b[39m\u001b[39m\"\u001b[39m,\u001b[39m100000\u001b[39m,\u001b[39m2025\u001b[39m)\n\u001b[0;32m      3\u001b[0m teacher1\u001b[39m.\u001b[39mget_summary()\n",
      "\u001b[1;31mNameError\u001b[0m: name 'teacher' is not defined"
     ]
    }
   ],
   "source": [
    "teacher1=teacher(\"Sheela\",23,13071998,1234567890,\"CSE\")\n",
    "student1=student(\"snow\",52,16062003,971292585,\"CSE\",100000,2025)\n",
    "teacher1.get_summary()\n"
   ]
  },
  {
   "cell_type": "code",
   "execution_count": 6,
   "metadata": {},
   "outputs": [
    {
     "name": "stdout",
     "output_type": "stream",
     "text": [
      "The name of the person is Bhawani and id is 12 \n",
      " and the DOB is 18011996 and  mobile number is 9937530384.\n"
     ]
    }
   ],
   "source": [
    "class person:\n",
    "    def __init__(self,name, id_no, DOB, mobile_no ):\n",
    "        self.name = name\n",
    "        self.id_no = id_no\n",
    "        self.DOB = DOB\n",
    "        self.mobile_no = mobile_no\n",
    "    \n",
    "    def get_summary(self):\n",
    "        print(f\"The name of the person is {self.name} and id is {self.id_no} \\n and the DOB is {self.DOB} and  mobile number is {self.mobile_no}.\")\n",
    "\n",
    "    \n",
    "\n",
    "class teacher(person):\n",
    "    def __init__(self,name, id_no, DOB, mobile_no, dept):\n",
    "        super().__init__(name, id_no, DOB, mobile_no)\n",
    "        self.dept = dept\n",
    "\n",
    "class non_teacher(person):\n",
    "    def __init__(self, name, id_no, DOB, mobile_no):\n",
    "        super().__init__(name, id_no, DOB, mobile_no)\n",
    "\n",
    "class student(teacher):\n",
    "    def __init__(self, name, id_no, DOB, mobile_no, dept, paid_amount, passing_year):\n",
    "        super().__init__(name, id_no, DOB, mobile_no, dept)\n",
    "        self.paid_amount = paid_amount\n",
    "        self.passing_year = passing_year\n",
    "\n",
    "# Create object from the class\n",
    "teacher1 = teacher(\"Bhawani\", 12, 18011996,9937530384,\"CSE\")\n",
    "student1 = student(\"Snowfia\",17, 12112000,1234567890,\"CSE\",12000,2024)\n",
    "\n",
    "# Call the method of the object\n",
    "teacher1.get_summary()"
   ]
  },
  {
   "cell_type": "code",
   "execution_count": null,
   "metadata": {},
   "outputs": [],
   "source": []
  }
 ],
 "metadata": {
  "kernelspec": {
   "display_name": "Python 3",
   "language": "python",
   "name": "python3"
  },
  "language_info": {
   "codemirror_mode": {
    "name": "ipython",
    "version": 3
   },
   "file_extension": ".py",
   "mimetype": "text/x-python",
   "name": "python",
   "nbconvert_exporter": "python",
   "pygments_lexer": "ipython3",
   "version": "3.11.6"
  },
  "orig_nbformat": 4
 },
 "nbformat": 4,
 "nbformat_minor": 2
}
